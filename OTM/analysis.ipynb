{
 "cells": [
  {
   "cell_type": "code",
   "execution_count": 111,
   "id": "09df15f9",
   "metadata": {},
   "outputs": [],
   "source": [
    "import polars as pl \n",
    "import numpy as np \n",
    "import matplotlib.pyplot as plt"
   ]
  },
  {
   "cell_type": "code",
   "execution_count": 112,
   "id": "5c83ca7d",
   "metadata": {},
   "outputs": [
    {
     "data": {
      "text/html": [
       "<div><style>\n",
       ".dataframe > thead > tr,\n",
       ".dataframe > tbody > tr {\n",
       "  text-align: right;\n",
       "  white-space: pre-wrap;\n",
       "}\n",
       "</style>\n",
       "<small>shape: (107_820, 5)</small><table border=\"1\" class=\"dataframe\"><thead><tr><th>CorrelationType</th><th>Size</th><th>Algorithm</th><th>ObjectiveValue</th><th>ExecutionTime</th></tr><tr><td>str</td><td>i64</td><td>str</td><td>f64</td><td>f64</td></tr></thead><tbody><tr><td>&quot;correlated_sc1&quot;</td><td>300</td><td>&quot;GRASP&quot;</td><td>706.0</td><td>0.0212</td></tr><tr><td>&quot;correlated_sc1&quot;</td><td>300</td><td>&quot;ILS-2&quot;</td><td>666.0</td><td>0.0017</td></tr><tr><td>&quot;correlated_sc1&quot;</td><td>300</td><td>&quot;ILS-10&quot;</td><td>709.0</td><td>0.0027</td></tr><tr><td>&quot;correlated_sc1&quot;</td><td>300</td><td>&quot;ILS-50&quot;</td><td>695.0</td><td>0.0042</td></tr><tr><td>&quot;correlated_sc1&quot;</td><td>300</td><td>&quot;ILS-100&quot;</td><td>715.0</td><td>0.0064</td></tr><tr><td>&hellip;</td><td>&hellip;</td><td>&hellip;</td><td>&hellip;</td><td>&hellip;</td></tr><tr><td>&quot;not_correlated_sc4&quot;</td><td>1000</td><td>&quot;ILS-100&quot;</td><td>1360.0</td><td>0.2595</td></tr><tr><td>&quot;not_correlated_sc4&quot;</td><td>1000</td><td>&quot;ILS-300&quot;</td><td>1327.0</td><td>0.1472</td></tr><tr><td>&quot;not_correlated_sc4&quot;</td><td>1000</td><td>&quot;SA&quot;</td><td>1190.0</td><td>0.0094</td></tr><tr><td>&quot;not_correlated_sc4&quot;</td><td>1000</td><td>&quot;TabuSearch&quot;</td><td>1295.0</td><td>0.0972</td></tr><tr><td>&quot;not_correlated_sc4&quot;</td><td>1000</td><td>&quot;REACT_GRASP&quot;</td><td>1294.0</td><td>0.2023</td></tr></tbody></table></div>"
      ],
      "text/plain": [
       "shape: (107_820, 5)\n",
       "┌────────────────────┬──────┬─────────────┬────────────────┬───────────────┐\n",
       "│ CorrelationType    ┆ Size ┆ Algorithm   ┆ ObjectiveValue ┆ ExecutionTime │\n",
       "│ ---                ┆ ---  ┆ ---         ┆ ---            ┆ ---           │\n",
       "│ str                ┆ i64  ┆ str         ┆ f64            ┆ f64           │\n",
       "╞════════════════════╪══════╪═════════════╪════════════════╪═══════════════╡\n",
       "│ correlated_sc1     ┆ 300  ┆ GRASP       ┆ 706.0          ┆ 0.0212        │\n",
       "│ correlated_sc1     ┆ 300  ┆ ILS-2       ┆ 666.0          ┆ 0.0017        │\n",
       "│ correlated_sc1     ┆ 300  ┆ ILS-10      ┆ 709.0          ┆ 0.0027        │\n",
       "│ correlated_sc1     ┆ 300  ┆ ILS-50      ┆ 695.0          ┆ 0.0042        │\n",
       "│ correlated_sc1     ┆ 300  ┆ ILS-100     ┆ 715.0          ┆ 0.0064        │\n",
       "│ …                  ┆ …    ┆ …           ┆ …              ┆ …             │\n",
       "│ not_correlated_sc4 ┆ 1000 ┆ ILS-100     ┆ 1360.0         ┆ 0.2595        │\n",
       "│ not_correlated_sc4 ┆ 1000 ┆ ILS-300     ┆ 1327.0         ┆ 0.1472        │\n",
       "│ not_correlated_sc4 ┆ 1000 ┆ SA          ┆ 1190.0         ┆ 0.0094        │\n",
       "│ not_correlated_sc4 ┆ 1000 ┆ TabuSearch  ┆ 1295.0         ┆ 0.0972        │\n",
       "│ not_correlated_sc4 ┆ 1000 ┆ REACT_GRASP ┆ 1294.0         ┆ 0.2023        │\n",
       "└────────────────────┴──────┴─────────────┴────────────────┴───────────────┘"
      ]
     },
     "execution_count": 112,
     "metadata": {},
     "output_type": "execute_result"
    }
   ],
   "source": [
    "filename = \"final.csv\"\n",
    "q = (pl.scan_csv(filename).select(pl.col(\"CorrelationType\"), pl.col(\"Size\"), pl.col(\"Algorithm\"), pl.col(\"ObjectiveValue\"), pl.col(\"ExecutionTime\")))\n",
    "\n",
    "df = q.collect()\n",
    "df"
   ]
  },
  {
   "cell_type": "code",
   "execution_count": 113,
   "id": "16a8782a",
   "metadata": {},
   "outputs": [
    {
     "name": "stdout",
     "output_type": "stream",
     "text": [
      "<polars.dataframe.group_by.GroupBy object at 0x00000209911616D0>\n"
     ]
    }
   ],
   "source": [
    "df = (df.group_by([\"CorrelationType\", \"Size\",\"Algorithm\"], maintain_order=True))\n",
    "print(df)"
   ]
  },
  {
   "cell_type": "code",
   "execution_count": 114,
   "id": "fd624ef6",
   "metadata": {},
   "outputs": [
    {
     "data": {
      "text/html": [
       "<div><style>\n",
       ".dataframe > thead > tr,\n",
       ".dataframe > tbody > tr {\n",
       "  text-align: right;\n",
       "  white-space: pre-wrap;\n",
       "}\n",
       "</style>\n",
       "<small>shape: (540, 10)</small><table border=\"1\" class=\"dataframe\"><thead><tr><th>CorrelationType</th><th>Size</th><th>Algorithm</th><th>Mean</th><th>Best</th><th>Solution std</th><th>Coef. Var. Sol.</th><th>Mean Time</th><th>Time std</th><th>Coef. Var. Time</th></tr><tr><td>str</td><td>i64</td><td>str</td><td>f64</td><td>f64</td><td>f64</td><td>f64</td><td>f64</td><td>f64</td><td>f64</td></tr></thead><tbody><tr><td>&quot;correlated_sc1&quot;</td><td>300</td><td>&quot;GRASP&quot;</td><td>699.53</td><td>731.0</td><td>15.851988</td><td>2.266091</td><td>0.016882</td><td>0.006165</td><td>36.519241</td></tr><tr><td>&quot;correlated_sc1&quot;</td><td>300</td><td>&quot;ILS-2&quot;</td><td>691.595</td><td>745.0</td><td>22.451981</td><td>3.246406</td><td>0.001854</td><td>0.000595</td><td>32.066757</td></tr><tr><td>&quot;correlated_sc1&quot;</td><td>300</td><td>&quot;ILS-10&quot;</td><td>710.825</td><td>748.0</td><td>15.562304</td><td>2.18933</td><td>0.004544</td><td>0.001592</td><td>35.038136</td></tr><tr><td>&quot;correlated_sc1&quot;</td><td>300</td><td>&quot;ILS-50&quot;</td><td>697.84</td><td>751.0</td><td>16.204237</td><td>2.322056</td><td>0.006884</td><td>0.002682</td><td>38.958434</td></tr><tr><td>&quot;correlated_sc1&quot;</td><td>300</td><td>&quot;ILS-100&quot;</td><td>698.5</td><td>734.0</td><td>16.103934</td><td>2.305502</td><td>0.006966</td><td>0.00293</td><td>42.054469</td></tr><tr><td>&hellip;</td><td>&hellip;</td><td>&hellip;</td><td>&hellip;</td><td>&hellip;</td><td>&hellip;</td><td>&hellip;</td><td>&hellip;</td><td>&hellip;</td><td>&hellip;</td></tr><tr><td>&quot;not_correlated_sc4&quot;</td><td>1000</td><td>&quot;ILS-100&quot;</td><td>1454.975</td><td>1622.0</td><td>83.753793</td><td>5.756373</td><td>0.2590565</td><td>0.103547</td><td>39.970801</td></tr><tr><td>&quot;not_correlated_sc4&quot;</td><td>1000</td><td>&quot;ILS-300&quot;</td><td>1455.56</td><td>1623.0</td><td>81.516385</td><td>5.600345</td><td>0.269917</td><td>0.100909</td><td>37.385192</td></tr><tr><td>&quot;not_correlated_sc4&quot;</td><td>1000</td><td>&quot;SA&quot;</td><td>1259.94</td><td>1518.0</td><td>114.313755</td><td>9.072952</td><td>0.011763</td><td>0.003386</td><td>28.783735</td></tr><tr><td>&quot;not_correlated_sc4&quot;</td><td>1000</td><td>&quot;TabuSearch&quot;</td><td>1293.385</td><td>1446.0</td><td>102.566986</td><td>7.93012</td><td>0.086975</td><td>0.009837</td><td>11.310472</td></tr><tr><td>&quot;not_correlated_sc4&quot;</td><td>1000</td><td>&quot;REACT_GRASP&quot;</td><td>1366.335</td><td>1561.0</td><td>83.754024</td><td>6.129831</td><td>0.284735</td><td>0.095013</td><td>33.368821</td></tr></tbody></table></div>"
      ],
      "text/plain": [
       "shape: (540, 10)\n",
       "┌─────────────┬──────┬─────────────┬──────────┬───┬────────────┬───────────┬──────────┬────────────┐\n",
       "│ Correlation ┆ Size ┆ Algorithm   ┆ Mean     ┆ … ┆ Coef. Var. ┆ Mean Time ┆ Time std ┆ Coef. Var. │\n",
       "│ Type        ┆ ---  ┆ ---         ┆ ---      ┆   ┆ Sol.       ┆ ---       ┆ ---      ┆ Time       │\n",
       "│ ---         ┆ i64  ┆ str         ┆ f64      ┆   ┆ ---        ┆ f64       ┆ f64      ┆ ---        │\n",
       "│ str         ┆      ┆             ┆          ┆   ┆ f64        ┆           ┆          ┆ f64        │\n",
       "╞═════════════╪══════╪═════════════╪══════════╪═══╪════════════╪═══════════╪══════════╪════════════╡\n",
       "│ correlated_ ┆ 300  ┆ GRASP       ┆ 699.53   ┆ … ┆ 2.266091   ┆ 0.016882  ┆ 0.006165 ┆ 36.519241  │\n",
       "│ sc1         ┆      ┆             ┆          ┆   ┆            ┆           ┆          ┆            │\n",
       "│ correlated_ ┆ 300  ┆ ILS-2       ┆ 691.595  ┆ … ┆ 3.246406   ┆ 0.001854  ┆ 0.000595 ┆ 32.066757  │\n",
       "│ sc1         ┆      ┆             ┆          ┆   ┆            ┆           ┆          ┆            │\n",
       "│ correlated_ ┆ 300  ┆ ILS-10      ┆ 710.825  ┆ … ┆ 2.18933    ┆ 0.004544  ┆ 0.001592 ┆ 35.038136  │\n",
       "│ sc1         ┆      ┆             ┆          ┆   ┆            ┆           ┆          ┆            │\n",
       "│ correlated_ ┆ 300  ┆ ILS-50      ┆ 697.84   ┆ … ┆ 2.322056   ┆ 0.006884  ┆ 0.002682 ┆ 38.958434  │\n",
       "│ sc1         ┆      ┆             ┆          ┆   ┆            ┆           ┆          ┆            │\n",
       "│ correlated_ ┆ 300  ┆ ILS-100     ┆ 698.5    ┆ … ┆ 2.305502   ┆ 0.006966  ┆ 0.00293  ┆ 42.054469  │\n",
       "│ sc1         ┆      ┆             ┆          ┆   ┆            ┆           ┆          ┆            │\n",
       "│ …           ┆ …    ┆ …           ┆ …        ┆ … ┆ …          ┆ …         ┆ …        ┆ …          │\n",
       "│ not_correla ┆ 1000 ┆ ILS-100     ┆ 1454.975 ┆ … ┆ 5.756373   ┆ 0.2590565 ┆ 0.103547 ┆ 39.970801  │\n",
       "│ ted_sc4     ┆      ┆             ┆          ┆   ┆            ┆           ┆          ┆            │\n",
       "│ not_correla ┆ 1000 ┆ ILS-300     ┆ 1455.56  ┆ … ┆ 5.600345   ┆ 0.269917  ┆ 0.100909 ┆ 37.385192  │\n",
       "│ ted_sc4     ┆      ┆             ┆          ┆   ┆            ┆           ┆          ┆            │\n",
       "│ not_correla ┆ 1000 ┆ SA          ┆ 1259.94  ┆ … ┆ 9.072952   ┆ 0.011763  ┆ 0.003386 ┆ 28.783735  │\n",
       "│ ted_sc4     ┆      ┆             ┆          ┆   ┆            ┆           ┆          ┆            │\n",
       "│ not_correla ┆ 1000 ┆ TabuSearch  ┆ 1293.385 ┆ … ┆ 7.93012    ┆ 0.086975  ┆ 0.009837 ┆ 11.310472  │\n",
       "│ ted_sc4     ┆      ┆             ┆          ┆   ┆            ┆           ┆          ┆            │\n",
       "│ not_correla ┆ 1000 ┆ REACT_GRASP ┆ 1366.335 ┆ … ┆ 6.129831   ┆ 0.284735  ┆ 0.095013 ┆ 33.368821  │\n",
       "│ ted_sc4     ┆      ┆             ┆          ┆   ┆            ┆           ┆          ┆            │\n",
       "└─────────────┴──────┴─────────────┴──────────┴───┴────────────┴───────────┴──────────┴────────────┘"
      ]
     },
     "execution_count": 114,
     "metadata": {},
     "output_type": "execute_result"
    }
   ],
   "source": [
    "result1 = df.agg([\n",
    "    pl.col(\"ObjectiveValue\").mean().alias(\"Mean\"),\n",
    "    pl.col(\"ObjectiveValue\").max().alias(\"Best\"),\n",
    "    pl.col(\"ObjectiveValue\").std().alias(\"Solution std\"),\n",
    "    (100 * (pl.col(\"ObjectiveValue\").std() / pl.col(\"ObjectiveValue\").mean())).alias(\"Coef. Var. Sol.\"),\n",
    "    pl.col(\"ExecutionTime\").mean().alias(\"Mean Time\"),\n",
    "    pl.col(\"ExecutionTime\").std().alias(\"Time std\"),\n",
    "    (100 * (pl.col(\"ExecutionTime\").std() / pl.col(\"ExecutionTime\").mean())).alias(\"Coef. Var. Time\")\n",
    "])\n",
    "result1"
   ]
  },
  {
   "cell_type": "code",
   "execution_count": 115,
   "id": "e7cfb01c",
   "metadata": {},
   "outputs": [],
   "source": [
    "data_from_image = [\n",
    "    # Scenario 1\n",
    "    # NC\n",
    "    {\"Type\": \"NC\", \"n\": 300, \"Scenario\": \"Scenario 1\", \"Algorithm\": \"CG\", \"Sol\": 588.1, \"Time\": 0.01},\n",
    "    {\"Type\": \"NC\", \"n\": 300, \"Scenario\": \"Scenario 1\", \"Algorithm\": \"MA\", \"Sol\": 681.4, \"Time\": 3.86},\n",
    "    {\"Type\": \"NC\", \"n\": 500, \"Scenario\": \"Scenario 1\", \"Algorithm\": \"CG\", \"Sol\": 468.7, \"Time\": 0.01},\n",
    "    {\"Type\": \"NC\", \"n\": 500, \"Scenario\": \"Scenario 1\", \"Algorithm\": \"MA\", \"Sol\": 560.8, \"Time\": 11.95},\n",
    "    {\"Type\": \"NC\", \"n\": 700, \"Scenario\": \"Scenario 1\", \"Algorithm\": \"CG\", \"Sol\": 365.0, \"Time\": 0.01},\n",
    "    {\"Type\": \"NC\", \"n\": 700, \"Scenario\": \"Scenario 1\", \"Algorithm\": \"MA\", \"Sol\": 492.0, \"Time\": 19.85},\n",
    "    {\"Type\": \"NC\", \"n\": 800, \"Scenario\": \"Scenario 1\", \"Algorithm\": \"CG\", \"Sol\": 368.2, \"Time\": 0.01},\n",
    "    {\"Type\": \"NC\", \"n\": 800, \"Scenario\": \"Scenario 1\", \"Algorithm\": \"MA\", \"Sol\": 457.1, \"Time\": 32.62},\n",
    "    {\"Type\": \"NC\", \"n\": 1000, \"Scenario\": \"Scenario 1\", \"Algorithm\": \"CG\", \"Sol\": 300.4, \"Time\": 0.01},\n",
    "    {\"Type\": \"NC\", \"n\": 1000, \"Scenario\": \"Scenario 1\", \"Algorithm\": \"MA\", \"Sol\": 404.6, \"Time\": 45.30},\n",
    "    # C\n",
    "    {\"Type\": \"C\", \"n\": 300, \"Scenario\": \"Scenario 1\", \"Algorithm\": \"CG\", \"Sol\": 696.9, \"Time\": 0.01},\n",
    "    {\"Type\": \"C\", \"n\": 300, \"Scenario\": \"Scenario 1\", \"Algorithm\": \"MA\", \"Sol\": 768.7, \"Time\": 2.59},\n",
    "    {\"Type\": \"C\", \"n\": 500, \"Scenario\": \"Scenario 1\", \"Algorithm\": \"CG\", \"Sol\": 621.3, \"Time\": 0.01},\n",
    "    {\"Type\": \"C\", \"n\": 500, \"Scenario\": \"Scenario 1\", \"Algorithm\": \"MA\", \"Sol\": 842.2, \"Time\": 18.96},\n",
    "    {\"Type\": \"C\", \"n\": 700, \"Scenario\": \"Scenario 1\", \"Algorithm\": \"CG\", \"Sol\": 511.2, \"Time\": 0.01},\n",
    "    {\"Type\": \"C\", \"n\": 700, \"Scenario\": \"Scenario 1\", \"Algorithm\": \"MA\", \"Sol\": 727.5, \"Time\": 43.53},\n",
    "    {\"Type\": \"C\", \"n\": 800, \"Scenario\": \"Scenario 1\", \"Algorithm\": \"CG\", \"Sol\": 475.7, \"Time\": 0.01},\n",
    "    {\"Type\": \"C\", \"n\": 800, \"Scenario\": \"Scenario 1\", \"Algorithm\": \"MA\", \"Sol\": 667.3, \"Time\": 54.60},\n",
    "    {\"Type\": \"C\", \"n\": 1000, \"Scenario\": \"Scenario 1\", \"Algorithm\": \"CG\", \"Sol\": 396.7, \"Time\": 0.01},\n",
    "    {\"Type\": \"C\", \"n\": 1000, \"Scenario\": \"Scenario 1\", \"Algorithm\": \"MA\", \"Sol\": 598.2, \"Time\": 73.40},\n",
    "    # FC\n",
    "    {\"Type\": \"FC\", \"n\": 300, \"Scenario\": \"Scenario 1\", \"Algorithm\": \"CG\", \"Sol\": 667.7, \"Time\": 0.01},\n",
    "    {\"Type\": \"FC\", \"n\": 300, \"Scenario\": \"Scenario 1\", \"Algorithm\": \"MA\", \"Sol\": 751.9, \"Time\": 3.03},\n",
    "    {\"Type\": \"FC\", \"n\": 500, \"Scenario\": \"Scenario 1\", \"Algorithm\": \"CG\", \"Sol\": 637.6, \"Time\": 0.01},\n",
    "    {\"Type\": \"FC\", \"n\": 500, \"Scenario\": \"Scenario 1\", \"Algorithm\": \"MA\", \"Sol\": 819.2, \"Time\": 17.38},\n",
    "    {\"Type\": \"FC\", \"n\": 700, \"Scenario\": \"Scenario 1\", \"Algorithm\": \"CG\", \"Sol\": 576.1, \"Time\": 0.01},\n",
    "    {\"Type\": \"FC\", \"n\": 700, \"Scenario\": \"Scenario 1\", \"Algorithm\": \"MA\", \"Sol\": 742.7, \"Time\": 41.45},\n",
    "    {\"Type\": \"FC\", \"n\": 800, \"Scenario\": \"Scenario 1\", \"Algorithm\": \"CG\", \"Sol\": 505.2, \"Time\": 0.01},\n",
    "    {\"Type\": \"FC\", \"n\": 800, \"Scenario\": \"Scenario 1\", \"Algorithm\": \"MA\", \"Sol\": 706.0, \"Time\": 55.45},\n",
    "    {\"Type\": \"FC\", \"n\": 1000, \"Scenario\": \"Scenario 1\", \"Algorithm\": \"CG\", \"Sol\": 468.4, \"Time\": 0.01},\n",
    "    {\"Type\": \"FC\", \"n\": 1000, \"Scenario\": \"Scenario 1\", \"Algorithm\": \"MA\", \"Sol\": 641.9, \"Time\": 78.17},\n",
    "\n",
    "    # Scenario 2\n",
    "    # NC\n",
    "    {\"Type\": \"NC\", \"n\": 300, \"Scenario\": \"Scenario 2\", \"Algorithm\": \"CG\", \"Sol\": 247.2, \"Time\": 0.01},\n",
    "    {\"Type\": \"NC\", \"n\": 300, \"Scenario\": \"Scenario 2\", \"Algorithm\": \"MA\", \"Sol\": 299.1, \"Time\": 1.37},\n",
    "    {\"Type\": \"NC\", \"n\": 500, \"Scenario\": \"Scenario 2\", \"Algorithm\": \"CG\", \"Sol\": 177.8, \"Time\": 0.01},\n",
    "    {\"Type\": \"NC\", \"n\": 500, \"Scenario\": \"Scenario 2\", \"Algorithm\": \"MA\", \"Sol\": 226.7, \"Time\": 2.45},\n",
    "    {\"Type\": \"NC\", \"n\": 700, \"Scenario\": \"Scenario 2\", \"Algorithm\": \"CG\", \"Sol\": 140.8, \"Time\": 0.01},\n",
    "    {\"Type\": \"NC\", \"n\": 700, \"Scenario\": \"Scenario 2\", \"Algorithm\": \"MA\", \"Sol\": 186.3, \"Time\": 3.24},\n",
    "    {\"Type\": \"NC\", \"n\": 800, \"Scenario\": \"Scenario 2\", \"Algorithm\": \"CG\", \"Sol\": 136.5, \"Time\": 0.01},\n",
    "    {\"Type\": \"NC\", \"n\": 800, \"Scenario\": \"Scenario 2\", \"Algorithm\": \"MA\", \"Sol\": 174.3, \"Time\": 3.80},\n",
    "    {\"Type\": \"NC\", \"n\": 1000, \"Scenario\": \"Scenario 2\", \"Algorithm\": \"CG\", \"Sol\": 103.3, \"Time\": 0.01},\n",
    "    {\"Type\": \"NC\", \"n\": 1000, \"Scenario\": \"Scenario 2\", \"Algorithm\": \"MA\", \"Sol\": 144.0, \"Time\": 4.31},\n",
    "    # C\n",
    "    {\"Type\": \"C\", \"n\": 300, \"Scenario\": \"Scenario 2\", \"Algorithm\": \"CG\", \"Sol\": 329.1, \"Time\": 0.01},\n",
    "    {\"Type\": \"C\", \"n\": 300, \"Scenario\": \"Scenario 2\", \"Algorithm\": \"MA\", \"Sol\": 443.9, \"Time\": 1.89},\n",
    "    {\"Type\": \"C\", \"n\": 500, \"Scenario\": \"Scenario 2\", \"Algorithm\": \"CG\", \"Sol\": 230.3, \"Time\": 0.01},\n",
    "    {\"Type\": \"C\", \"n\": 500, \"Scenario\": \"Scenario 2\", \"Algorithm\": \"MA\", \"Sol\": 346.5, \"Time\": 3.16},\n",
    "    {\"Type\": \"C\", \"n\": 700, \"Scenario\": \"Scenario 2\", \"Algorithm\": \"CG\", \"Sol\": 193.2, \"Time\": 0.01},\n",
    "    {\"Type\": \"C\", \"n\": 700, \"Scenario\": \"Scenario 2\", \"Algorithm\": \"MA\", \"Sol\": 273.7, \"Time\": 4.29},\n",
    "    {\"Type\": \"C\", \"n\": 800, \"Scenario\": \"Scenario 2\", \"Algorithm\": \"CG\", \"Sol\": 169.8, \"Time\": 0.01},\n",
    "    {\"Type\": \"C\", \"n\": 800, \"Scenario\": \"Scenario 2\", \"Algorithm\": \"MA\", \"Sol\": 249.8, \"Time\": 4.99},\n",
    "    {\"Type\": \"C\", \"n\": 1000, \"Scenario\": \"Scenario 2\", \"Algorithm\": \"CG\", \"Sol\": 144.2, \"Time\": 0.01},\n",
    "    {\"Type\": \"C\", \"n\": 1000, \"Scenario\": \"Scenario 2\", \"Algorithm\": \"MA\", \"Sol\": 213.7, \"Time\": 6.56},\n",
    "    # FC\n",
    "    {\"Type\": \"FC\", \"n\": 300, \"Scenario\": \"Scenario 2\", \"Algorithm\": \"CG\", \"Sol\": 360.1, \"Time\": 0.01},\n",
    "    {\"Type\": \"FC\", \"n\": 300, \"Scenario\": \"Scenario 2\", \"Algorithm\": \"MA\", \"Sol\": 465.4, \"Time\": 2.21},\n",
    "    {\"Type\": \"FC\", \"n\": 500, \"Scenario\": \"Scenario 2\", \"Algorithm\": \"CG\", \"Sol\": 320.8, \"Time\": 0.01},\n",
    "    {\"Type\": \"FC\", \"n\": 500, \"Scenario\": \"Scenario 2\", \"Algorithm\": \"MA\", \"Sol\": 406.5, \"Time\": 4.61},\n",
    "    {\"Type\": \"FC\", \"n\": 700, \"Scenario\": \"Scenario 2\", \"Algorithm\": \"CG\", \"Sol\": 270.6, \"Time\": 0.01},\n",
    "    {\"Type\": \"FC\", \"n\": 700, \"Scenario\": \"Scenario 2\", \"Algorithm\": \"MA\", \"Sol\": 348.9, \"Time\": 5.25},\n",
    "    {\"Type\": \"FC\", \"n\": 800, \"Scenario\": \"Scenario 2\", \"Algorithm\": \"CG\", \"Sol\": 261.0, \"Time\": 0.01},\n",
    "    {\"Type\": \"FC\", \"n\": 800, \"Scenario\": \"Scenario 2\", \"Algorithm\": \"MA\", \"Sol\": 325.9, \"Time\": 7.09},\n",
    "    {\"Type\": \"FC\", \"n\": 1000, \"Scenario\": \"Scenario 2\", \"Algorithm\": \"CG\", \"Sol\": 226.3, \"Time\": 0.01},\n",
    "    {\"Type\": \"FC\", \"n\": 1000, \"Scenario\": \"Scenario 2\", \"Algorithm\": \"MA\", \"Sol\": 289.9, \"Time\": 11.30},\n",
    "]\n",
    "data_from_image_sc3_4 = [\n",
    "    # Scenario 3\n",
    "    # NC\n",
    "    {\"Type\": \"NC\", \"n\": 300, \"Scenario\": \"Scenario 3\", \"Algorithm\": \"CG\", \"Sol\": 953.0, \"Time\": 0.01},\n",
    "    {\"Type\": \"NC\", \"n\": 300, \"Scenario\": \"Scenario 3\", \"Algorithm\": \"MA\", \"Sol\": 1027.7, \"Time\": 1.23},\n",
    "    {\"Type\": \"NC\", \"n\": 500, \"Scenario\": \"Scenario 3\", \"Algorithm\": \"CG\", \"Sol\": 1265.5, \"Time\": 0.01},\n",
    "    {\"Type\": \"NC\", \"n\": 500, \"Scenario\": \"Scenario 3\", \"Algorithm\": \"MA\", \"Sol\": 1386.8, \"Time\": 8.03},\n",
    "    {\"Type\": \"NC\", \"n\": 700, \"Scenario\": \"Scenario 3\", \"Algorithm\": \"CG\", \"Sol\": 1458.9, \"Time\": 0.02},\n",
    "    {\"Type\": \"NC\", \"n\": 700, \"Scenario\": \"Scenario 3\", \"Algorithm\": \"MA\", \"Sol\": 1676.0, \"Time\": 57.38},\n",
    "    {\"Type\": \"NC\", \"n\": 800, \"Scenario\": \"Scenario 3\", \"Algorithm\": \"CG\", \"Sol\": 1537.0, \"Time\": 0.02},\n",
    "    {\"Type\": \"NC\", \"n\": 800, \"Scenario\": \"Scenario 3\", \"Algorithm\": \"MA\", \"Sol\": 1813.1, \"Time\": 124.10},\n",
    "    {\"Type\": \"NC\", \"n\": 1000, \"Scenario\": \"Scenario 3\", \"Algorithm\": \"CG\", \"Sol\": 1676.3, \"Time\": 0.04},\n",
    "    {\"Type\": \"NC\", \"n\": 1000, \"Scenario\": \"Scenario 3\", \"Algorithm\": \"MA\", \"Sol\": 1949.8, \"Time\": 200.31},\n",
    "    # C\n",
    "    {\"Type\": \"C\", \"n\": 300, \"Scenario\": \"Scenario 3\", \"Algorithm\": \"CG\", \"Sol\": 919.4, \"Time\": 0.01},\n",
    "    {\"Type\": \"C\", \"n\": 300, \"Scenario\": \"Scenario 3\", \"Algorithm\": \"MA\", \"Sol\": 960.2, \"Time\": 1.23},\n",
    "    {\"Type\": \"C\", \"n\": 500, \"Scenario\": \"Scenario 3\", \"Algorithm\": \"CG\", \"Sol\": 1363.3, \"Time\": 0.01},\n",
    "    {\"Type\": \"C\", \"n\": 500, \"Scenario\": \"Scenario 3\", \"Algorithm\": \"MA\", \"Sol\": 1439.4, \"Time\": 5.16},\n",
    "    {\"Type\": \"C\", \"n\": 700, \"Scenario\": \"Scenario 3\", \"Algorithm\": \"CG\", \"Sol\": 1762.7, \"Time\": 0.02},\n",
    "    {\"Type\": \"C\", \"n\": 700, \"Scenario\": \"Scenario 3\", \"Algorithm\": \"MA\", \"Sol\": 1859.0, \"Time\": 25.19},\n",
    "    {\"Type\": \"C\", \"n\": 800, \"Scenario\": \"Scenario 3\", \"Algorithm\": \"CG\", \"Sol\": 1949.8, \"Time\": 0.03},\n",
    "    {\"Type\": \"C\", \"n\": 800, \"Scenario\": \"Scenario 3\", \"Algorithm\": \"MA\", \"Sol\": 2068.7, \"Time\": 30.53}, # Corrected typo from image (1.23 -> 30.53 based on visual position and magnitude)\n",
    "    {\"Type\": \"C\", \"n\": 1000, \"Scenario\": \"Scenario 3\", \"Algorithm\": \"CG\", \"Sol\": 2234.7, \"Time\": 0.05},\n",
    "    {\"Type\": \"C\", \"n\": 1000, \"Scenario\": \"Scenario 3\", \"Algorithm\": \"MA\", \"Sol\": 2426.4, \"Time\": 86.82},\n",
    "    # FC\n",
    "    {\"Type\": \"FC\", \"n\": 300, \"Scenario\": \"Scenario 3\", \"Algorithm\": \"CG\", \"Sol\": 894.8, \"Time\": 0.01},\n",
    "    {\"Type\": \"FC\", \"n\": 300, \"Scenario\": \"Scenario 3\", \"Algorithm\": \"MA\", \"Sol\": 952.0, \"Time\": 1.54},\n",
    "    {\"Type\": \"FC\", \"n\": 500, \"Scenario\": \"Scenario 3\", \"Algorithm\": \"CG\", \"Sol\": 1343.4, \"Time\": 0.01},\n",
    "    {\"Type\": \"FC\", \"n\": 500, \"Scenario\": \"Scenario 3\", \"Algorithm\": \"MA\", \"Sol\": 1423.9, \"Time\": 6.12},\n",
    "    {\"Type\": \"FC\", \"n\": 700, \"Scenario\": \"Scenario 3\", \"Algorithm\": \"CG\", \"Sol\": 1741.1, \"Time\": 0.02},\n",
    "    {\"Type\": \"FC\", \"n\": 700, \"Scenario\": \"Scenario 3\", \"Algorithm\": \"MA\", \"Sol\": 1843.9, \"Time\": 20.94},\n",
    "    {\"Type\": \"FC\", \"n\": 800, \"Scenario\": \"Scenario 3\", \"Algorithm\": \"CG\", \"Sol\": 1941.5, \"Time\": 0.03},\n",
    "    {\"Type\": \"FC\", \"n\": 800, \"Scenario\": \"Scenario 3\", \"Algorithm\": \"MA\", \"Sol\": 2054.0, \"Time\": 34.51},\n",
    "    {\"Type\": \"FC\", \"n\": 1000, \"Scenario\": \"Scenario 3\", \"Algorithm\": \"CG\", \"Sol\": 2284.1, \"Time\": 0.05},\n",
    "    {\"Type\": \"FC\", \"n\": 1000, \"Scenario\": \"Scenario 3\", \"Algorithm\": \"MA\", \"Sol\": 2433.1, \"Time\": 83.24},\n",
    "\n",
    "    # Scenario 4\n",
    "    # NC\n",
    "    {\"Type\": \"NC\", \"n\": 300, \"Scenario\": \"Scenario 4\", \"Algorithm\": \"CG\", \"Sol\": 829.3, \"Time\": 0.01},\n",
    "    {\"Type\": \"NC\", \"n\": 300, \"Scenario\": \"Scenario 4\", \"Algorithm\": \"MA\", \"Sol\": 903.0, \"Time\": 1.32},\n",
    "    {\"Type\": \"NC\", \"n\": 500, \"Scenario\": \"Scenario 4\", \"Algorithm\": \"CG\", \"Sol\": 1017.7, \"Time\": 0.01},\n",
    "    {\"Type\": \"NC\", \"n\": 500, \"Scenario\": \"Scenario 4\", \"Algorithm\": \"MA\", \"Sol\": 1168.3, \"Time\": 13.01},\n",
    "    {\"Type\": \"NC\", \"n\": 700, \"Scenario\": \"Scenario 4\", \"Algorithm\": \"CG\", \"Sol\": 1191.8, \"Time\": 0.02},\n",
    "    {\"Type\": \"NC\", \"n\": 700, \"Scenario\": \"Scenario 4\", \"Algorithm\": \"MA\", \"Sol\": 1401.9, \"Time\": 36.40},\n",
    "    {\"Type\": \"NC\", \"n\": 800, \"Scenario\": \"Scenario 4\", \"Algorithm\": \"CG\", \"Sol\": 1243.0, \"Time\": 0.02},\n",
    "    {\"Type\": \"NC\", \"n\": 800, \"Scenario\": \"Scenario 4\", \"Algorithm\": \"MA\", \"Sol\": 1449.4, \"Time\": 55.01},\n",
    "    {\"Type\": \"NC\", \"n\": 1000, \"Scenario\": \"Scenario 4\", \"Algorithm\": \"CG\", \"Sol\": 1280.1, \"Time\": 0.04},\n",
    "    {\"Type\": \"NC\", \"n\": 1000, \"Scenario\": \"Scenario 4\", \"Algorithm\": \"MA\", \"Sol\": 1513.2, \"Time\": 89.64},\n",
    "    # C\n",
    "    {\"Type\": \"C\", \"n\": 300, \"Scenario\": \"Scenario 4\", \"Algorithm\": \"CG\", \"Sol\": 855.0, \"Time\": 0.01},\n",
    "    {\"Type\": \"C\", \"n\": 300, \"Scenario\": \"Scenario 4\", \"Algorithm\": \"MA\", \"Sol\": 896.4, \"Time\": 1.16},\n",
    "    {\"Type\": \"C\", \"n\": 500, \"Scenario\": \"Scenario 4\", \"Algorithm\": \"CG\", \"Sol\": 1220.4, \"Time\": 0.01},\n",
    "    {\"Type\": \"C\", \"n\": 500, \"Scenario\": \"Scenario 4\", \"Algorithm\": \"MA\", \"Sol\": 1308.1, \"Time\": 5.91},\n",
    "    {\"Type\": \"C\", \"n\": 700, \"Scenario\": \"Scenario 4\", \"Algorithm\": \"CG\", \"Sol\": 1595.2, \"Time\": 0.02},\n",
    "    {\"Type\": \"C\", \"n\": 700, \"Scenario\": \"Scenario 4\", \"Algorithm\": \"MA\", \"Sol\": 1726.4, \"Time\": 16.28},\n",
    "    {\"Type\": \"C\", \"n\": 800, \"Scenario\": \"Scenario 4\", \"Algorithm\": \"CG\", \"Sol\": 1742.8, \"Time\": 0.02},\n",
    "    {\"Type\": \"C\", \"n\": 800, \"Scenario\": \"Scenario 4\", \"Algorithm\": \"MA\", \"Sol\": 1879.3, \"Time\": 35.92},\n",
    "    {\"Type\": \"C\", \"n\": 1000, \"Scenario\": \"Scenario 4\", \"Algorithm\": \"CG\", \"Sol\": 1844.2, \"Time\": 0.04}, # Corrected typo from image (0.02 -> 0.04 based on column consistency)\n",
    "    {\"Type\": \"C\", \"n\": 1000, \"Scenario\": \"Scenario 4\", \"Algorithm\": \"MA\", \"Sol\": 2150.4, \"Time\": 111.68},\n",
    "    # FC\n",
    "    {\"Type\": \"FC\", \"n\": 300, \"Scenario\": \"Scenario 4\", \"Algorithm\": \"CG\", \"Sol\": 842.3, \"Time\": 0.01},\n",
    "    {\"Type\": \"FC\", \"n\": 300, \"Scenario\": \"Scenario 4\", \"Algorithm\": \"MA\", \"Sol\": 889.7, \"Time\": 1.23},\n",
    "    {\"Type\": \"FC\", \"n\": 500, \"Scenario\": \"Scenario 4\", \"Algorithm\": \"CG\", \"Sol\": 1250.7, \"Time\": 0.01},\n",
    "    {\"Type\": \"FC\", \"n\": 500, \"Scenario\": \"Scenario 4\", \"Algorithm\": \"MA\", \"Sol\": 1313.6, \"Time\": 4.80},\n",
    "    {\"Type\": \"FC\", \"n\": 700, \"Scenario\": \"Scenario 4\", \"Algorithm\": \"CG\", \"Sol\": 1673.3, \"Time\": 0.02},\n",
    "    {\"Type\": \"FC\", \"n\": 700, \"Scenario\": \"Scenario 4\", \"Algorithm\": \"MA\", \"Sol\": 1759.9, \"Time\": 15.40},\n",
    "    {\"Type\": \"FC\", \"n\": 800, \"Scenario\": \"Scenario 4\", \"Algorithm\": \"CG\", \"Sol\": 1805.3, \"Time\": 0.03},\n",
    "    {\"Type\": \"FC\", \"n\": 800, \"Scenario\": \"Scenario 4\", \"Algorithm\": \"MA\", \"Sol\": 1937.2, \"Time\": 23.37},\n",
    "    {\"Type\": \"FC\", \"n\": 1000, \"Scenario\": \"Scenario 4\", \"Algorithm\": \"CG\", \"Sol\": 1971.4, \"Time\": 0.04},\n",
    "    {\"Type\": \"FC\", \"n\": 1000, \"Scenario\": \"Scenario 4\", \"Algorithm\": \"MA\", \"Sol\": 2302.3, \"Time\": 77.22},\n",
    "]"
   ]
  },
  {
   "cell_type": "code",
   "execution_count": null,
   "id": "6af3413d",
   "metadata": {},
   "outputs": [
    {
     "name": "stdout",
     "output_type": "stream",
     "text": [
      "Transformed DataFrame from image:\n",
      "shape: (120, 5)\n",
      "┌──────────────────────┬──────┬───────────┬────────┬───────────┐\n",
      "│ CorrelationType      ┆ Size ┆ Algorithm ┆ Mean   ┆ Mean Time │\n",
      "│ ---                  ┆ ---  ┆ ---       ┆ ---    ┆ ---       │\n",
      "│ str                  ┆ i64  ┆ str       ┆ f64    ┆ f64       │\n",
      "╞══════════════════════╪══════╪═══════════╪════════╪═══════════╡\n",
      "│ not_correlated_sc1   ┆ 300  ┆ CG        ┆ 588.1  ┆ 0.01      │\n",
      "│ not_correlated_sc1   ┆ 300  ┆ MA        ┆ 681.4  ┆ 3.86      │\n",
      "│ not_correlated_sc1   ┆ 500  ┆ CG        ┆ 468.7  ┆ 0.01      │\n",
      "│ not_correlated_sc1   ┆ 500  ┆ MA        ┆ 560.8  ┆ 11.95     │\n",
      "│ not_correlated_sc1   ┆ 700  ┆ CG        ┆ 365.0  ┆ 0.01      │\n",
      "│ …                    ┆ …    ┆ …         ┆ …      ┆ …         │\n",
      "│ fully_correlated_sc4 ┆ 700  ┆ MA        ┆ 1759.9 ┆ 15.4      │\n",
      "│ fully_correlated_sc4 ┆ 800  ┆ CG        ┆ 1805.3 ┆ 0.03      │\n",
      "│ fully_correlated_sc4 ┆ 800  ┆ MA        ┆ 1937.2 ┆ 23.37     │\n",
      "│ fully_correlated_sc4 ┆ 1000 ┆ CG        ┆ 1971.4 ┆ 0.04      │\n",
      "│ fully_correlated_sc4 ┆ 1000 ┆ MA        ┆ 2302.3 ┆ 77.22     │\n",
      "└──────────────────────┴──────┴───────────┴────────┴───────────┘\n",
      "\n",
      "Schema of transformed DataFrame:\n",
      "Schema({'CorrelationType': String, 'Size': Int64, 'Algorithm': String, 'Mean': Float64, 'Mean Time': Float64})\n"
     ]
    }
   ],
   "source": [
    "df_image_raw = pl.DataFrame(data_from_image + data_from_image_sc3_4)\n",
    "type_map = {\n",
    "    \"NC\": \"not_correlated\",\n",
    "    \"C\": \"correlated\",\n",
    "    \"FC\": \"fully_correlated\"\n",
    "}\n",
    "\n",
    "scenario_map = {\n",
    "    \"Scenario 1\": \"_sc1\",\n",
    "    \"Scenario 2\": \"_sc2\",\n",
    "    \"Scenario 3\": \"_sc3\",\n",
    "    \"Scenario 4\": \"_sc4\"\n",
    "}\n",
    "\n",
    "df_image_transformed = df_image_raw.with_columns([\n",
    "\n",
    "    pl.col(\"Type\").replace(type_map).alias(\"correlation_base\"),\n",
    "    pl.col(\"Scenario\").replace(scenario_map).alias(\"scenario_suffix\")\n",
    "]).with_columns(\n",
    "\n",
    "    (pl.col(\"correlation_base\") + pl.col(\"scenario_suffix\")).alias(\"CorrelationType\")\n",
    ").select([\n",
    "    pl.col(\"CorrelationType\"),\n",
    "    pl.col(\"n\").alias(\"Size\"),\n",
    "    pl.col(\"Algorithm\"),\n",
    "    pl.col(\"Sol\").alias(\"Mean\"),\n",
    "    pl.col(\"Time\").alias(\"Mean Time\")\n",
    "])\n",
    "\n",
    "print(\"Transformed DataFrame from image:\")\n",
    "print(df_image_transformed)\n",
    "\n",
    "# You can check the schema\n",
    "print(\"\\nSchema of transformed DataFrame:\")\n",
    "print(df_image_transformed.schema)"
   ]
  },
  {
   "cell_type": "code",
   "execution_count": 117,
   "id": "d5530f93",
   "metadata": {},
   "outputs": [
    {
     "data": {
      "text/html": [
       "<div><style>\n",
       ".dataframe > thead > tr,\n",
       ".dataframe > tbody > tr {\n",
       "  text-align: right;\n",
       "  white-space: pre-wrap;\n",
       "}\n",
       "</style>\n",
       "<small>shape: (660, 10)</small><table border=\"1\" class=\"dataframe\"><thead><tr><th>CorrelationType</th><th>Size</th><th>Algorithm</th><th>Mean</th><th>Best</th><th>Solution std</th><th>Coef. Var. Sol.</th><th>Mean Time</th><th>Time std</th><th>Coef. Var. Time</th></tr><tr><td>str</td><td>i64</td><td>str</td><td>f64</td><td>f64</td><td>f64</td><td>f64</td><td>f64</td><td>f64</td><td>f64</td></tr></thead><tbody><tr><td>&quot;correlated_sc1&quot;</td><td>300</td><td>&quot;CG&quot;</td><td>696.9</td><td>null</td><td>null</td><td>null</td><td>0.01</td><td>null</td><td>null</td></tr><tr><td>&quot;correlated_sc1&quot;</td><td>300</td><td>&quot;GRASP&quot;</td><td>699.53</td><td>731.0</td><td>15.851988</td><td>2.266091</td><td>0.016882</td><td>0.006165</td><td>36.519241</td></tr><tr><td>&quot;correlated_sc1&quot;</td><td>300</td><td>&quot;ILS-10&quot;</td><td>710.825</td><td>748.0</td><td>15.562304</td><td>2.18933</td><td>0.004544</td><td>0.001592</td><td>35.038136</td></tr><tr><td>&quot;correlated_sc1&quot;</td><td>300</td><td>&quot;ILS-100&quot;</td><td>698.5</td><td>734.0</td><td>16.103934</td><td>2.305502</td><td>0.006966</td><td>0.00293</td><td>42.054469</td></tr><tr><td>&quot;correlated_sc1&quot;</td><td>300</td><td>&quot;ILS-2&quot;</td><td>691.595</td><td>745.0</td><td>22.451981</td><td>3.246406</td><td>0.001854</td><td>0.000595</td><td>32.066757</td></tr><tr><td>&hellip;</td><td>&hellip;</td><td>&hellip;</td><td>&hellip;</td><td>&hellip;</td><td>&hellip;</td><td>&hellip;</td><td>&hellip;</td><td>&hellip;</td><td>&hellip;</td></tr><tr><td>&quot;not_correlated_sc4&quot;</td><td>1000</td><td>&quot;ILS-50&quot;</td><td>1472.27</td><td>1664.0</td><td>86.802769</td><td>5.895846</td><td>0.197512</td><td>0.072046</td><td>36.476617</td></tr><tr><td>&quot;not_correlated_sc4&quot;</td><td>1000</td><td>&quot;MA&quot;</td><td>1513.2</td><td>null</td><td>null</td><td>null</td><td>89.64</td><td>null</td><td>null</td></tr><tr><td>&quot;not_correlated_sc4&quot;</td><td>1000</td><td>&quot;REACT_GRASP&quot;</td><td>1366.335</td><td>1561.0</td><td>83.754024</td><td>6.129831</td><td>0.284735</td><td>0.095013</td><td>33.368821</td></tr><tr><td>&quot;not_correlated_sc4&quot;</td><td>1000</td><td>&quot;SA&quot;</td><td>1259.94</td><td>1518.0</td><td>114.313755</td><td>9.072952</td><td>0.011763</td><td>0.003386</td><td>28.783735</td></tr><tr><td>&quot;not_correlated_sc4&quot;</td><td>1000</td><td>&quot;TabuSearch&quot;</td><td>1293.385</td><td>1446.0</td><td>102.566986</td><td>7.93012</td><td>0.086975</td><td>0.009837</td><td>11.310472</td></tr></tbody></table></div>"
      ],
      "text/plain": [
       "shape: (660, 10)\n",
       "┌─────────────┬──────┬─────────────┬──────────┬───┬────────────┬───────────┬──────────┬────────────┐\n",
       "│ Correlation ┆ Size ┆ Algorithm   ┆ Mean     ┆ … ┆ Coef. Var. ┆ Mean Time ┆ Time std ┆ Coef. Var. │\n",
       "│ Type        ┆ ---  ┆ ---         ┆ ---      ┆   ┆ Sol.       ┆ ---       ┆ ---      ┆ Time       │\n",
       "│ ---         ┆ i64  ┆ str         ┆ f64      ┆   ┆ ---        ┆ f64       ┆ f64      ┆ ---        │\n",
       "│ str         ┆      ┆             ┆          ┆   ┆ f64        ┆           ┆          ┆ f64        │\n",
       "╞═════════════╪══════╪═════════════╪══════════╪═══╪════════════╪═══════════╪══════════╪════════════╡\n",
       "│ correlated_ ┆ 300  ┆ CG          ┆ 696.9    ┆ … ┆ null       ┆ 0.01      ┆ null     ┆ null       │\n",
       "│ sc1         ┆      ┆             ┆          ┆   ┆            ┆           ┆          ┆            │\n",
       "│ correlated_ ┆ 300  ┆ GRASP       ┆ 699.53   ┆ … ┆ 2.266091   ┆ 0.016882  ┆ 0.006165 ┆ 36.519241  │\n",
       "│ sc1         ┆      ┆             ┆          ┆   ┆            ┆           ┆          ┆            │\n",
       "│ correlated_ ┆ 300  ┆ ILS-10      ┆ 710.825  ┆ … ┆ 2.18933    ┆ 0.004544  ┆ 0.001592 ┆ 35.038136  │\n",
       "│ sc1         ┆      ┆             ┆          ┆   ┆            ┆           ┆          ┆            │\n",
       "│ correlated_ ┆ 300  ┆ ILS-100     ┆ 698.5    ┆ … ┆ 2.305502   ┆ 0.006966  ┆ 0.00293  ┆ 42.054469  │\n",
       "│ sc1         ┆      ┆             ┆          ┆   ┆            ┆           ┆          ┆            │\n",
       "│ correlated_ ┆ 300  ┆ ILS-2       ┆ 691.595  ┆ … ┆ 3.246406   ┆ 0.001854  ┆ 0.000595 ┆ 32.066757  │\n",
       "│ sc1         ┆      ┆             ┆          ┆   ┆            ┆           ┆          ┆            │\n",
       "│ …           ┆ …    ┆ …           ┆ …        ┆ … ┆ …          ┆ …         ┆ …        ┆ …          │\n",
       "│ not_correla ┆ 1000 ┆ ILS-50      ┆ 1472.27  ┆ … ┆ 5.895846   ┆ 0.197512  ┆ 0.072046 ┆ 36.476617  │\n",
       "│ ted_sc4     ┆      ┆             ┆          ┆   ┆            ┆           ┆          ┆            │\n",
       "│ not_correla ┆ 1000 ┆ MA          ┆ 1513.2   ┆ … ┆ null       ┆ 89.64     ┆ null     ┆ null       │\n",
       "│ ted_sc4     ┆      ┆             ┆          ┆   ┆            ┆           ┆          ┆            │\n",
       "│ not_correla ┆ 1000 ┆ REACT_GRASP ┆ 1366.335 ┆ … ┆ 6.129831   ┆ 0.284735  ┆ 0.095013 ┆ 33.368821  │\n",
       "│ ted_sc4     ┆      ┆             ┆          ┆   ┆            ┆           ┆          ┆            │\n",
       "│ not_correla ┆ 1000 ┆ SA          ┆ 1259.94  ┆ … ┆ 9.072952   ┆ 0.011763  ┆ 0.003386 ┆ 28.783735  │\n",
       "│ ted_sc4     ┆      ┆             ┆          ┆   ┆            ┆           ┆          ┆            │\n",
       "│ not_correla ┆ 1000 ┆ TabuSearch  ┆ 1293.385 ┆ … ┆ 7.93012    ┆ 0.086975  ┆ 0.009837 ┆ 11.310472  │\n",
       "│ ted_sc4     ┆      ┆             ┆          ┆   ┆            ┆           ┆          ┆            │\n",
       "└─────────────┴──────┴─────────────┴──────────┴───┴────────────┴───────────┴──────────┴────────────┘"
      ]
     },
     "execution_count": 117,
     "metadata": {},
     "output_type": "execute_result"
    }
   ],
   "source": [
    "merged_df = pl.concat([result1, df_image_transformed], how='align')\n",
    "merged_df"
   ]
  },
  {
   "cell_type": "code",
   "execution_count": null,
   "id": "117a46bb",
   "metadata": {},
   "outputs": [],
   "source": [
    "merged_df = merged_df.with_columns(\n",
    "    pl.col(\"Mean\").filter(pl.col(\"Algorithm\") == \"CG\").first().over([\"CorrelationType\", \"Size\"]).alias(\"Mean_CG_in_Group\")\n",
    ").with_columns(\n",
    "    (\n",
    "        100*(pl.col(\"Mean_CG_in_Group\") - pl.col(\"Mean\")) / pl.col(\"Mean_CG_in_Group\")\n",
    "    ).alias(\"Relative_Improvement_vs_CG\")\n",
    ")"
   ]
  },
  {
   "cell_type": "code",
   "execution_count": null,
   "id": "0bc9874c",
   "metadata": {},
   "outputs": [],
   "source": [
    "df_with_new_col = merged_df.with_columns(\n",
    "\n",
    "    pl.col(\"Mean\").filter(pl.col(\"Algorithm\") == \"MA\").first().over([\"CorrelationType\", \"Size\"]).alias(\"Mean_MA_in_Group\")\n",
    ").with_columns(\n",
    "    (\n",
    "        100*(pl.col(\"Mean_MA_in_Group\") - pl.col(\"Mean\")) / pl.col(\"Mean_MA_in_Group\")\n",
    "    ).alias(\"Relative_Improvement_vs_MA\")\n",
    ")"
   ]
  },
  {
   "cell_type": "code",
   "execution_count": 120,
   "id": "d8abcf03",
   "metadata": {},
   "outputs": [],
   "source": [
    "df = df_with_new_col.drop([\"Mean_MA_in_Group\",\"Mean_CG_in_Group\"])"
   ]
  },
  {
   "cell_type": "code",
   "execution_count": null,
   "id": "a2af9cc8",
   "metadata": {},
   "outputs": [],
   "source": [
    "output_filename = \"final_transformed.csv\"\n",
    "df.write_csv(output_filename)"
   ]
  },
  {
   "cell_type": "code",
   "execution_count": null,
   "id": "3f1d4b67",
   "metadata": {},
   "outputs": [
    {
     "data": {
      "text/html": [
       "<div><style>\n",
       ".dataframe > thead > tr,\n",
       ".dataframe > tbody > tr {\n",
       "  text-align: right;\n",
       "  white-space: pre-wrap;\n",
       "}\n",
       "</style>\n",
       "<small>shape: (2, 3)</small><table border=\"1\" class=\"dataframe\"><thead><tr><th>Algorithm</th><th>Mean solution</th><th>Mean Time</th></tr><tr><td>str</td><td>f64</td><td>f64</td></tr></thead><tbody><tr><td>&quot;GRASP&quot;</td><td>912.688935</td><td>0.094513</td></tr><tr><td>&quot;REACT_GRASP&quot;</td><td>886.207546</td><td>0.074731</td></tr></tbody></table></div>"
      ],
      "text/plain": [
       "shape: (2, 3)\n",
       "┌─────────────┬───────────────┬───────────┐\n",
       "│ Algorithm   ┆ Mean solution ┆ Mean Time │\n",
       "│ ---         ┆ ---           ┆ ---       │\n",
       "│ str         ┆ f64           ┆ f64       │\n",
       "╞═════════════╪═══════════════╪═══════════╡\n",
       "│ GRASP       ┆ 912.688935    ┆ 0.094513  │\n",
       "│ REACT_GRASP ┆ 886.207546    ┆ 0.074731  │\n",
       "└─────────────┴───────────────┴───────────┘"
      ]
     },
     "execution_count": 122,
     "metadata": {},
     "output_type": "execute_result"
    }
   ],
   "source": [
    "df_grasp = df.filter(pl.col(\"Algorithm\").str.contains(\"GRASP\"))\n",
    "df_grasp = df_grasp.group_by([\"Algorithm\"], maintain_order=True)\n",
    "df_grasp = df_grasp.agg([\n",
    "    pl.col(\"Mean\").mean().alias(\"Mean solution\"),\n",
    "    pl.col(\"Mean Time\").mean().alias(\"Mean Time\")\n",
    "])\n",
    "df_grasp"
   ]
  },
  {
   "cell_type": "code",
   "execution_count": null,
   "id": "95f11ab5",
   "metadata": {},
   "outputs": [
    {
     "data": {
      "text/html": [
       "<div><style>\n",
       ".dataframe > thead > tr,\n",
       ".dataframe > tbody > tr {\n",
       "  text-align: right;\n",
       "  white-space: pre-wrap;\n",
       "}\n",
       "</style>\n",
       "<small>shape: (5, 3)</small><table border=\"1\" class=\"dataframe\"><thead><tr><th>Algorithm</th><th>Mean solution</th><th>Mean Time</th></tr><tr><td>str</td><td>f64</td><td>f64</td></tr></thead><tbody><tr><td>&quot;ILS-10&quot;</td><td>958.738278</td><td>0.024057</td></tr><tr><td>&quot;ILS-100&quot;</td><td>942.88387</td><td>0.058301</td></tr><tr><td>&quot;ILS-2&quot;</td><td>907.876861</td><td>0.008857</td></tr><tr><td>&quot;ILS-300&quot;</td><td>941.352611</td><td>0.058973</td></tr><tr><td>&quot;ILS-50&quot;</td><td>949.838176</td><td>0.048255</td></tr></tbody></table></div>"
      ],
      "text/plain": [
       "shape: (5, 3)\n",
       "┌───────────┬───────────────┬───────────┐\n",
       "│ Algorithm ┆ Mean solution ┆ Mean Time │\n",
       "│ ---       ┆ ---           ┆ ---       │\n",
       "│ str       ┆ f64           ┆ f64       │\n",
       "╞═══════════╪═══════════════╪═══════════╡\n",
       "│ ILS-10    ┆ 958.738278    ┆ 0.024057  │\n",
       "│ ILS-100   ┆ 942.88387     ┆ 0.058301  │\n",
       "│ ILS-2     ┆ 907.876861    ┆ 0.008857  │\n",
       "│ ILS-300   ┆ 941.352611    ┆ 0.058973  │\n",
       "│ ILS-50    ┆ 949.838176    ┆ 0.048255  │\n",
       "└───────────┴───────────────┴───────────┘"
      ]
     },
     "execution_count": 123,
     "metadata": {},
     "output_type": "execute_result"
    }
   ],
   "source": [
    "df_ils = df.filter(pl.col(\"Algorithm\").str.contains(\"ILS\"))\n",
    "df_ils = df_ils.group_by([\"Algorithm\"], maintain_order=True)\n",
    "df_ils = df_ils.agg([\n",
    "    pl.col(\"Mean\").mean().alias(\"Mean solution\"),\n",
    "    pl.col(\"Mean Time\").mean().alias(\"Mean Time\")\n",
    "])\n",
    "df_ils"
   ]
  }
 ],
 "metadata": {
  "kernelspec": {
   "display_name": "Python 3",
   "language": "python",
   "name": "python3"
  },
  "language_info": {
   "codemirror_mode": {
    "name": "ipython",
    "version": 3
   },
   "file_extension": ".py",
   "mimetype": "text/x-python",
   "name": "python",
   "nbconvert_exporter": "python",
   "pygments_lexer": "ipython3",
   "version": "3.13.1"
  }
 },
 "nbformat": 4,
 "nbformat_minor": 5
}
